{
 "cells": [
  {
   "cell_type": "code",
   "execution_count": 10,
   "metadata": {},
   "outputs": [
    {
     "name": "stdout",
     "output_type": "stream",
     "text": [
      "esto es a: 8\n",
      "Otra forma de imprimir a es: 8\n"
     ]
    }
   ],
   "source": [
    "a = 3 + 5\n",
    "print(f'esto es a: {a}')\n",
    "print('Otra forma de imprimir a es: ' + str(a))"
   ]
  },
  {
   "cell_type": "markdown",
   "metadata": {},
   "source": [
    "# Esto es Markdown\n",
    "\n",
    "## Subtitulo de Markdown"
   ]
  },
  {
   "cell_type": "code",
   "execution_count": 14,
   "metadata": {},
   "outputs": [
    {
     "name": "stdout",
     "output_type": "stream",
     "text": [
      "0 1 2 3 4 "
     ]
    }
   ],
   "source": [
    "# Ejemplo de Python\n",
    "\n",
    "for i in range(5):\n",
    "    print(i, end = \" \")\n"
   ]
  },
  {
   "attachments": {},
   "cell_type": "markdown",
   "metadata": {},
   "source": [
    "Este ejemplo es para ver si se oculta con la flecha del título markdown"
   ]
  },
  {
   "cell_type": "code",
   "execution_count": 12,
   "metadata": {},
   "outputs": [
    {
     "name": "stdout",
     "output_type": "stream",
     "text": [
      "imprimo a: 9\n"
     ]
    }
   ],
   "source": [
    "a = i + 5\n",
    "print(f'imprimo a: {a}')"
   ]
  },
  {
   "attachments": {},
   "cell_type": "markdown",
   "metadata": {},
   "source": [
    "- creo que entendí\n",
    "- a escribir una notebook\n",
    "- en Visual Studio Code"
   ]
  }
 ],
 "metadata": {
  "kernelspec": {
   "display_name": "venv",
   "language": "python",
   "name": "python3"
  },
  "language_info": {
   "codemirror_mode": {
    "name": "ipython",
    "version": 3
   },
   "file_extension": ".py",
   "mimetype": "text/x-python",
   "name": "python",
   "nbconvert_exporter": "python",
   "pygments_lexer": "ipython3",
   "version": "3.8.10"
  },
  "orig_nbformat": 4,
  "vscode": {
   "interpreter": {
    "hash": "52d3f72a0976f1a4d69d044e927d988ba2186c15339713f268c4f9dbe76d913f"
   }
  }
 },
 "nbformat": 4,
 "nbformat_minor": 2
}
